{
 "cells": [
  {
   "cell_type": "code",
   "execution_count": 1,
   "metadata": {},
   "outputs": [],
   "source": [
    "from pylab import*\n",
    "import numpy as np\n",
    "from scipy.optimize import bisect\n",
    "from math import pi\n",
    "import cmath\n",
    "from fompy.constants import eV, me, h_bar\n",
    "from fompy.units import unit"
   ]
  },
  {
   "cell_type": "code",
   "execution_count": 2,
   "metadata": {},
   "outputs": [],
   "source": [
    "# Periodic potential:\n",
    "# U = 0,    n*(a+b) < x < n*(a+b) + a\n",
    "# U = U_0,  n*(a+b) + a <= (n+1)*(a + b)\n",
    "# предполагаем, что b - тонкий высокий барьер, а - межбарьерное расстояние"
   ]
  },
  {
   "cell_type": "code",
   "execution_count": 3,
   "metadata": {},
   "outputs": [],
   "source": [
    "def equation_left(a, b, E):\n",
    "    alf = cmath.sqrt(2*m/h_bar**2*(E))\n",
    "    bet = cmath.sqrt(2*m/h_bar**2*(E - U_0))\n",
    "    first = cmath.cos(bet*b)*cmath.cos(alf*a)\n",
    "    if bet == 0:\n",
    "        second = -(alf*b/2)*cmath.sin(alf*a)\n",
    "    elif alf == 0:\n",
    "        second = -(bet*a/2)*cmath.sin(bet*b)\n",
    "    else:\n",
    "        second = -(bet**2 + alf**2)/(2*alf*bet)*cmath.sin(bet*b)*cmath.sin(alf*a)\n",
    "    return (first + second).real\n",
    "    \n",
    "def equation_right(a, b, k):\n",
    "    return cmath.cos(k * (a + b)).real\n",
    "\n",
    "def generic_equation(E, k, a, b, U0, m):\n",
    "    return equation_left(a, b, E) - equation_right(a, b, k)\n",
    "\n",
    "def find_E_start_end(a,b,U_0,m,E_0,accuracy):\n",
    "    alpha = (2*m/h_bar**2)**0.5\n",
    "    E_start,E_end = E_0,E_0\n",
    "    E_step = U_0/100000\n",
    "    cur_E = E_start\n",
    "    step = E_step\n",
    "    process_started = False\n",
    "    while(True):\n",
    "        if(not process_started):\n",
    "            if(equation_left(a,b,cur_E) < 1.0):\n",
    "                cur_E -= step\n",
    "            else:\n",
    "                process_started = True\n",
    "        elif(equation_left(a,b,cur_E) > 1.0):\n",
    "            cur_E += step\n",
    "        elif(equation_left(a,b,cur_E) < 1.0):\n",
    "            if(step < accuracy):\n",
    "                E_start = cur_E\n",
    "                break\n",
    "            step /= 2.\n",
    "            cur_E -= step\n",
    "        else:\n",
    "            E_start = cur_E\n",
    "            break\n",
    "    step = E_step\n",
    "    minus_one_achieved = False\n",
    "    while(True):\n",
    "        g = alpha*((U_0 - cur_E)**0.5)\n",
    "        beta = alpha*((cur_E)**0.5)\n",
    "        if(equation_left(a,b,cur_E) > -1.0):\n",
    "            if(minus_one_achieved and step < accuracy):\n",
    "                E_end = cur_E\n",
    "                break\n",
    "            cur_E += step\n",
    "        elif(equation_left(a,b,cur_E) < -1.0):\n",
    "            minus_one_achieved = True\n",
    "            step /= 2.\n",
    "            cur_E -= step\n",
    "        else:\n",
    "            E_end = cur_E\n",
    "            break\n",
    "    return E_start,E_end"
   ]
  },
  {
   "cell_type": "code",
   "execution_count": 4,
   "metadata": {},
   "outputs": [
    {
     "name": "stdout",
     "output_type": "stream",
     "text": [
      "For first Brullien zone\n",
      "E_min, eV =  0.5175598734376184\n",
      "E_max, eV =  0.5184961429688665\n"
     ]
    }
   ],
   "source": [
    "m = 0.49 * me\n",
    "a = 10 * unit('nm')\n",
    "b = 5 * unit('nm')\n",
    "U_0 = 0.58 * eV\n",
    "\n",
    "N = 100\n",
    "E_0 = U_0 - U_0/N                 # first non-zero approximation\n",
    "accuracy = U_0/10000000     # accuracy with to find E_start, E_end\n",
    "\n",
    "E_start,E_end = find_E_start_end(a,b,U_0,m,E_0,accuracy)\n",
    "print(\"For first Brullien zone\")\n",
    "print(\"E_min, eV = \",E_start/eV)\n",
    "print(\"E_max, eV = \", E_end/eV)"
   ]
  },
  {
   "cell_type": "code",
   "execution_count": 5,
   "metadata": {},
   "outputs": [
    {
     "data": {
      "image/png": "[encoded data removed]",
      "text/plain": [
       "<Figure size 576x576 with 1 Axes>"
      ]
     },
     "metadata": {
      "needs_background": "light"
     },
     "output_type": "display_data"
    }
   ],
   "source": [
    "@np.vectorize\n",
    "def get_energy(k):\n",
    "    try:\n",
    "        return bisect(generic_equation, E_start, E_end, (k, a, b, U_0, m), xtol=accuracy)\n",
    "    except ValueError:\n",
    "        return None\n",
    "\n",
    "def filter_gaps(ks, es):\n",
    "    _es = []\n",
    "    _ks = []\n",
    "    for e, k in zip(es, ks):\n",
    "        if e is not None:\n",
    "            _es.append(e)\n",
    "            _ks.append(k)\n",
    "    return np.array(_ks), np.array(_es)\n",
    "    \n",
    "kas = np.linspace(-pi, pi, 1000)\n",
    "es = get_energy(kas/(a+b))\n",
    "kas, es = filter_gaps(kas, es)\n",
    "\n",
    "# plot graph\n",
    "fig,axes = plt.subplots(nrows = 1, ncols = 1)\n",
    "\n",
    "axes.plot(kas, es/eV, lw = 2, color = 'b', alpha = 1)\n",
    "axes.set_xlabel(\"k*(a+b)\")\n",
    "axes.set_ylabel(\"Energy\")\n",
    "axes.set_title(\"Energy of the first Brullien zone\")\n",
    "\n",
    "fig.set_figwidth(8)\n",
    "fig.set_figheight(8)\n",
    "plt.show()"
   ]
  }
 ],
 "metadata": {
  "kernelspec": {
   "display_name": "Python 3",
   "language": "python",
   "name": "python3"
  },
  "language_info": {
   "codemirror_mode": {
    "name": "ipython",
    "version": 3
   },
   "file_extension": ".py",
   "mimetype": "text/x-python",
   "name": "python",
   "nbconvert_exporter": "python",
   "pygments_lexer": "ipython3",
   "version": "3.8.6"
  }
 },
 "nbformat": 4,
 "nbformat_minor": 2
}
