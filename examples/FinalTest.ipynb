{
 "cells": [
  {
   "cell_type": "code",
   "execution_count": 1,
   "metadata": {},
   "outputs": [],
   "source": [
    "from fompy.constants import *\n",
    "from fompy.units import unit, from_unit\n",
    "from fompy.models import *\n",
    "from fompy.materials import Si\n",
    "from math import sqrt, exp, pi, log\n",
    "from scipy.optimize import bisect"
   ]
  },
  {
   "cell_type": "markdown",
   "metadata": {},
   "source": [
    "# Task 1"
   ]
  },
  {
   "cell_type": "code",
   "execution_count": 2,
   "metadata": {},
   "outputs": [],
   "source": [
    "#InSb\n",
    "m1=114*amu\n",
    "m2=121*amu\n",
    "m=(m1+m2)/2\n",
    "a=6.479*angstrom\n",
    "l=DiamondLikeLattice(a, m)"
   ]
  },
  {
   "cell_type": "code",
   "execution_count": 3,
   "metadata": {},
   "outputs": [
    {
     "name": "stdout",
     "output_type": "stream",
     "text": [
      "Density: 5.7408149263833534\n",
      "Concentration: 2.9414809978010444e+22\n"
     ]
    }
   ],
   "source": [
    "print(f'Density: {l.density}') # g / cm^3\n",
    "print(f'Concentration: {l.concentration}') # g / cm^3"
   ]
  },
  {
   "cell_type": "markdown",
   "metadata": {},
   "source": [
    "# Task 2"
   ]
  },
  {
   "cell_type": "code",
   "execution_count": 4,
   "metadata": {},
   "outputs": [
    {
     "name": "stdout",
     "output_type": "stream",
     "text": [
      "Ea: 0.08043349078490213\n",
      "Ed: 0.03574821812662323\n",
      "Nc: 2.9478007828414684e+18\n",
      "Nv: 9.948827642089957e+18\n",
      "1.0751378250122072\n",
      "0.09524250030517577\n",
      "delta_phi: 0.9798537051679436\n",
      "w_n: 3.24534472744884e-06\n",
      "w_p: 1.744075275274712e-05\n",
      "w: 2.0686097480195958e-05\n",
      "8.229303131918818e-09 4.530592611061823e-08\n",
      "7.91034214995452e-27 2.6129943535472906e-26\n",
      "63.426437463144865\n"
     ]
    }
   ],
   "source": [
    "T=200\n",
    "Na=5e16\n",
    "Nd=3e17\n",
    "Ea=hydrogen_like_energy(Si.eps, m=0.81*me)\n",
    "Ed=Si.Eg - hydrogen_like_energy(Si.eps, m=0.36*me)\n",
    "print(f'Ea: {Ea/eV}')\n",
    "print(f'Ed: {(Si.Eg-Ed)/eV}')\n",
    "print(f'Nc: {Si.Nc(T=T)}')\n",
    "print(f'Nv: {Si.Nv(T=T)}')\n",
    "\n",
    "pn = PNJunctionFullDepletion(Si, Na, Ea, Nd, Ed)\n",
    "print(pn.n_mat.fermi_level(T=T)/eV)\n",
    "print(pn.p_mat.fermi_level(T=T)/eV)\n",
    "print(f'delta_phi: {pn.delta_phi(T)/volt}')\n",
    "print(f'w_n: {pn.w_n(T)}')\n",
    "print(f'w_p: {pn.w_p(T)}')\n",
    "print(f'w: {pn.w(T)}')\n",
    "\n",
    "pn = PNJunctionNonDegenerate(Si, Na, Ea, Nd, Ed)\n",
    "Lp=2e-3\n",
    "Ln=1e-2\n",
    "Dp=12\n",
    "Dn=36\n",
    "j0_n = pn.j0_n(Dn, Ln)\n",
    "j0_p = pn.j0_p(Dp, Lp)\n",
    "((j0_n+j0_p)*from_unit(0.1, 'mm^2'))/unit('A')\n",
    "ni2=(sqrt(Si.Nc(T=T)*Si.Nv(T=T))*exp(-Si.Eg/(2*k*T)))**2\n",
    "\n",
    "\n",
    "p_n=ni2/(Si.Nc(T=T)*exp((pn.n_mat.fermi_level(T=T)-Si.Eg)/(k*T)))\n",
    "n_p=ni2/(Si.Nv(T=T)*exp(-pn.p_mat.fermi_level(T=T)/(k*T)))\n",
    "print(p_n, n_p)\n",
    "print(e*Dp/Lp*p_n*from_unit(0.1, 'mm2')/unit('A'), e*Dn/Ln*n_p*from_unit(0.1, 'mm2')/unit('A'))\n",
    "def cur(V):\n",
    "    return e*Dn/Ln*n_p*from_unit(0.1, 'mm2')*(exp(e*V/k/T)-1)\n",
    "def pwr(V):\n",
    "    return V * cur(V)\n",
    "pwr(3*volt)/unit('W')\n",
    "v_max = bisect(lambda x: pwr(x)-from_unit(50, 'W'), 0.1*volt, 2*volt, xtol=0.01*volt)\n",
    "i_max = cur(v_max)\n",
    "print(i_max/unit('A'))"
   ]
  },
  {
   "cell_type": "markdown",
   "metadata": {},
   "source": [
    "# Task 3"
   ]
  },
  {
   "cell_type": "code",
   "execution_count": 5,
   "metadata": {},
   "outputs": [
    {
     "name": "stdout",
     "output_type": "stream",
     "text": [
      "Na: 1.387096e+16, Es: 0.045, Ef: 0.18277240753173832\n"
     ]
    },
    {
     "data": {
      "text/plain": [
       "2.7156364237350234e-05"
      ]
     },
     "execution_count": 5,
     "metadata": {},
     "output_type": "execute_result"
    }
   ],
   "source": [
    "# КДБ-1\n",
    "sem = DopedSemiconductor.from_materials(Si, from_unit(450, 'cm / V s'), 'B', from_unit(1, 'Ohm cm'))\n",
    "print(f'Na: {sem.Na:e}, Es: {sem.Ea/eV}, Ef: {sem.fermi_level()/eV}')\n",
    "\n",
    "ms = MSJunction(Metal(4.2*eV), sem)\n",
    "ms.delta_phi()/volt\n",
    "df = ms.delta_phi()\n",
    "n = sem.p_concentration()\n",
    "depletion_width(Si.eps, n, -df)"
   ]
  },
  {
   "cell_type": "markdown",
   "metadata": {},
   "source": [
    "# Task 4"
   ]
  },
  {
   "cell_type": "code",
   "execution_count": 6,
   "metadata": {},
   "outputs": [],
   "source": [
    "def Eg(eps, a):\n",
    "    return h_bar * sqrt(4*pi*32*e**2/((eps-1)*me*a**3))"
   ]
  }
 ],
 "metadata": {
  "kernelspec": {
   "display_name": "Python 3",
   "language": "python",
   "name": "python3"
  },
  "language_info": {
   "codemirror_mode": {
    "name": "ipython",
    "version": 3
   },
   "file_extension": ".py",
   "mimetype": "text/x-python",
   "name": "python",
   "nbconvert_exporter": "python",
   "pygments_lexer": "ipython3",
   "version": "3.9.0"
  }
 },
 "nbformat": 4,
 "nbformat_minor": 1
}
